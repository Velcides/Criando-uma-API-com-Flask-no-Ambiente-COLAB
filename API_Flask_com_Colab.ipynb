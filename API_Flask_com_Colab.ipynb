{
  "cells": [
    {
      "cell_type": "markdown",
      "metadata": {
        "id": "GLA0LMdxwnNQ"
      },
      "source": [
        "Comando para instalar o Django no colab."
      ]
    },
    {
      "cell_type": "code",
      "execution_count": null,
      "metadata": {
        "id": "bpbHViiwwZdh"
      },
      "outputs": [],
      "source": [
        "!pip install o django"
      ]
    },
    {
      "cell_type": "markdown",
      "metadata": {
        "id": "ojjdF0RRwvud"
      },
      "source": [
        "Criando um novo projeto."
      ]
    },
    {
      "cell_type": "code",
      "execution_count": null,
      "metadata": {
        "id": "9RORFqaCw5V9"
      },
      "outputs": [],
      "source": [
        "!django-admin startproject portfolio"
      ]
    },
    {
      "cell_type": "code",
      "execution_count": null,
      "metadata": {
        "colab": {
          "base_uri": "https://localhost:8080/"
        },
        "id": "9wcvc8-ExTky",
        "outputId": "6dbab6f9-327f-4681-fe0f-367bfc4e74a5"
      },
      "outputs": [
        {
          "name": "stdout",
          "output_type": "stream",
          "text": [
            "/content/portfolio\n"
          ]
        }
      ],
      "source": [
        "%cd portfolio/"
      ]
    },
    {
      "cell_type": "markdown",
      "metadata": {
        "id": "GaesDjWcypJB"
      },
      "source": []
    },
    {
      "cell_type": "code",
      "execution_count": null,
      "metadata": {
        "colab": {
          "base_uri": "https://localhost:8080/",
          "height": 35
        },
        "id": "1G5mw9KLx7Ay",
        "outputId": "91276b09-c8b2-4d4d-f2f9-5285949d1b88"
      },
      "outputs": [
        {
          "name": "stdout",
          "output_type": "stream",
          "text": [
            "https://juppjf4pu89-496ff2e9c6d22116-8000-colab.googleusercontent.com/\n"
          ]
        }
      ],
      "source": [
        "from google.colab.output import eval_js\n",
        "print(eval_js(\"google.colab.kernel.proxyPort(8000)\"))"
      ]
    },
    {
      "cell_type": "markdown",
      "metadata": {
        "id": "loG4KHsryPHO"
      },
      "source": [
        "Fornecendo uma porta para um servidor local, para se conectar ao mesmo precisamos adicioná-lo em ALLOWED_HOSTS."
      ]
    },
    {
      "cell_type": "code",
      "execution_count": null,
      "metadata": {
        "id": "-QLlRkl2ypqa"
      },
      "outputs": [],
      "source": [
        "ALLOWED_HOSTS = ['colab.research.google.com']"
      ]
    },
    {
      "cell_type": "markdown",
      "metadata": {
        "id": "mGHvpgBoy6Ry"
      },
      "source": [
        "  Agora execute seu servidor usando o código abaixo. E acesse o servidor usando o link do Google Colab que você imporimiu executando o método eval_js anteriormente."
      ]
    },
    {
      "cell_type": "code",
      "execution_count": null,
      "metadata": {
        "id": "Dgdk5i3jzKdG"
      },
      "outputs": [],
      "source": [
        "!python manage.py runserver 8000"
      ]
    },
    {
      "cell_type": "markdown",
      "metadata": {
        "id": "QB8RnM0f0pmo"
      },
      "source": [
        "**FastAPI e Flask**\n",
        "\n",
        "Flask é um microframework web escrito em Python. É classificado como tal pois não requer ferramentas ou bibliotecas.\n",
        "\n",
        "FastAPI é um framework web moderno e rápido, de alto desempenho para construir APIs."
      ]
    },
    {
      "cell_type": "code",
      "execution_count": null,
      "metadata": {
        "id": "7Wq0rv6O1KMc"
      },
      "outputs": [],
      "source": [
        "!pip install flask\n",
        "!pip install flask-ngrok"
      ]
    },
    {
      "cell_type": "markdown",
      "metadata": {
        "id": "nxOM6Apm1YGp"
      },
      "source": [
        "Por que instalar o flask ngrok?\n",
        "\n",
        "O motivo é que o servidor flask cria um servidor que é executado localmente no tempo de execução alocado no google colab como localhost. Para expor o servidor ao tráfego externo ou tornar o servidor acessível fora do tempo de execução globalmente em HTTP, o ngrok é usado. Já que estamos trabalhando com flask é bom usar o módulo flask-ngrok do python.  "
      ]
    },
    {
      "cell_type": "code",
      "execution_count": null,
      "metadata": {
        "id": "_l9seWAb2Lne"
      },
      "outputs": [],
      "source": [
        "from flask import *\n",
        "from flask_ngrok import run_with_ngrok\n",
        "app = Flask(__name__)\n",
        "@app.route('/index')\n",
        "def home():\n",
        "  return 'Hello World'"
      ]
    },
    {
      "cell_type": "markdown",
      "metadata": {
        "id": "l-qoL3bN2kLv"
      },
      "source": [
        "Esta é uma rota simples que criamos. o decorador @app.route('/index') é usado para aprimorar a funcionalidade da função home(). Sempre que chamamos o servidor em http://hostname:portnumber/index a função home() também será chamada. O nome host é 'localhost' que mapeia para 127.0.0.1 como endereço IP correspondente se você quiser acessar um servidor localmente em execução."
      ]
    },
    {
      "cell_type": "code",
      "execution_count": null,
      "metadata": {
        "id": "XHnt6Cw23XKt"
      },
      "outputs": [],
      "source": [
        "run_with_ngrok(app)\n",
        "app.run()"
      ]
    },
    {
      "cell_type": "markdown",
      "metadata": {
        "id": "qJ_FmR0X4qEF"
      },
      "source": [
        "A função run_with_ngrock() recebe o objeto da classe Flask, aqui ele é armazenado em uma variável chamada app. Ele anexa o ngrok ao aplicativo flask para que, quando executarmos o aplicativo, uma URL possa ser gerada, acessível fora do tempo de execução."
      ]
    },
    {
      "cell_type": "markdown",
      "metadata": {
        "id": "cwKmdtAg5SGb"
      },
      "source": [
        "Agora ao executar o app.run(), nosso servidor está configurado. Ele pode ser acessado externamente com a URL gerada com o final ngrok.io, mas criamos uma rota apenas para /index, portanto, devemos verificar isso com o ngrok.io/index."
      ]
    },
    {
      "cell_type": "markdown",
      "metadata": {
        "id": "gg0YK8Zm50Og"
      },
      "source": [
        "Usando o flask é fácil criar APIs simples com total flexibilidade e agora podemos explorar o Google Colab também e tentar criar um serviço de ML usando isso.\n",
        "\n",
        "Vamos agora pular rapidamente para a FastAPI, instalanado abaixo:"
      ]
    },
    {
      "cell_type": "code",
      "execution_count": null,
      "metadata": {
        "id": "mx60lZt46PAr"
      },
      "outputs": [],
      "source": [
        "!pip install fastapi nest-asyncio pyngrok uvicorn"
      ]
    },
    {
      "cell_type": "code",
      "execution_count": null,
      "metadata": {
        "id": "wUUPI98h-zqQ"
      },
      "outputs": [],
      "source": [
        "!pip install pyngrok"
      ]
    },
    {
      "cell_type": "markdown",
      "metadata": {
        "id": "pFZcQplR8CRq"
      },
      "source": [
        "Em seguida importamos a classe FastAPI do módulo fastapi e criamos seu objeto que chamamos de app. Também criamos uma rota com o decorador @app.route('/index') que está vinculado ao método home(), async atua como um modificador para fazer a função executar de forma assíncrona. O servidor FastAPI local é executado na porta número 8000 e o ngrok cria um túnel para que redes externas também possam acessá-lo conforme descrito anteriormente na implementação do servidor flask. Como o FastAPI suporta chamadas assíncronas, precisamos de um servidor ASGI, ou seja, uvicorn, que execute o aplicativo na porta número 8000 localmente."
      ]
    },
    {
      "cell_type": "code",
      "execution_count": null,
      "metadata": {
        "colab": {
          "base_uri": "https://localhost:8080/"
        },
        "id": "74Fme83rCCIU",
        "outputId": "9900c7e3-7046-4253-978a-ce5dc37bbef0"
      },
      "outputs": [
        {
          "name": "stdout",
          "output_type": "stream",
          "text": [
            "Authtoken saved to configuration file: /root/.config/ngrok/ngrok.yml\n"
          ]
        }
      ],
      "source": [
        "# prompt: criar um codigo que consiga rodar esse comando ngrok config add-authtoken 2dZ45JCnHBdLc59hCNXfNaGs5dh_2N7eMWB2j3wADD9spuWuW\n",
        "\n",
        "!ngrok config add-authtoken 2dZ45JCnHBdLc59hCNXfNaGs5dh_2N7eMWB2j3wADD9spuWuW\n"
      ]
    },
    {
      "cell_type": "code",
      "execution_count": null,
      "metadata": {
        "id": "pxT3tB109H0t"
      },
      "outputs": [],
      "source": [
        "from fastapi import FastAPI\n",
        "import nest_asyncio\n",
        "import pyngrok\n",
        "from pyngrok import ngrok\n",
        "import uvicorn\n",
        "\n",
        "app = FastAPI()\n",
        "\n",
        "@app.get('/index')\n",
        "\n",
        "async def home():\n",
        "  return \"Hello World\"\n",
        "\n",
        "\n",
        "ngrok_tunnel = ngrok.connect(8000)\n",
        "print('Public URL:', ngrok_tunnel.public_url)\n",
        "nest_asyncio.apply()\n",
        "uvicorn.run(app, port=8000)"
      ]
    },
    {
      "cell_type": "code",
      "execution_count": null,
      "metadata": {
        "id": "2jERsdjDDJPp"
      },
      "outputs": [],
      "source": [
        "# prompt: criar um codigo utilizando ngrok que gere um URL de uma pagina em um localhost exibindo a mensagem Hello World\n",
        "\n",
        "!ngrok config add-authtoken 2dZ45JCnHBdLc59hCNXfNaGs5dh_2N7eMWB2j3wADD9spuWuW\n",
        "from flask import Flask\n",
        "app = Flask(__name__)\n",
        "@app.route('/')\n",
        "def hello_world():\n",
        "    return 'Hello, World!'\n",
        "ngrok_tunnel = ngrok.connect(5000)\n",
        "print('Public URL:', ngrok_tunnel.public_url)\n",
        "app.run()\n"
      ]
    },
    {
      "cell_type": "markdown",
      "metadata": {
        "id": "-i5vRyUFOGOF"
      },
      "source": [
        "API, Interface de Programação de Aplicações, é um conjunto de rotinas e padrões estabelecidos por um software para a utilização das suas funcionalidades por aplicativos que não pretendem envolver-se em detalhes da implementação do software, mas apenas usar seus serviços.\n",
        "\n",
        "Importando as bibliotecas:"
      ]
    },
    {
      "cell_type": "code",
      "execution_count": null,
      "metadata": {
        "id": "LEvmmG35PSbd"
      },
      "outputs": [],
      "source": [
        "import pandas as pd\n",
        "from flask_ngrok import run_with_ngrok\n",
        "from flask import request, jsonify, Flask\n",
        "import random as r"
      ]
    },
    {
      "cell_type": "code",
      "execution_count": null,
      "metadata": {
        "id": "ryoXFh-gSzrZ"
      },
      "outputs": [],
      "source": [
        "app = Flask(__name__)\n",
        "run_with_ngrok(app)"
      ]
    },
    {
      "cell_type": "markdown",
      "metadata": {
        "id": "gCV55injPzGh"
      },
      "source": [
        "Agora vamos criar uma entrada para a API que estará na forma de um dicionário ou (JSON). JSON é um tipo de arquivo leve para enviar e receber solicitações HTTP."
      ]
    },
    {
      "cell_type": "code",
      "execution_count": null,
      "metadata": {
        "id": "e6HBap7EQC7h"
      },
      "outputs": [],
      "source": [
        "d = {\n",
        "    \"name\" : \"Nikola\",\n",
        "    \"surname\" : \"Tesla\",\n",
        "    \"age\": 60\n",
        "}"
      ]
    },
    {
      "cell_type": "markdown",
      "metadata": {
        "id": "5ls7yX79QiRp"
      },
      "source": [
        "Finalizando a entrada, agora vamos colocar a mesma na página inicial, criando uma função 'home', precisamos também adicionar uma linha de código para atribuir URLs em nosso aplicativo a função conhecida como 'Roteamento de aplicativo'. O roteamento de aplicativo é usado para mapear a URL especifica com a função associada que se destina a executar alguma tarefa. Ele é usado para acessar alguma página específica no aplicativo web."
      ]
    },
    {
      "cell_type": "code",
      "execution_count": null,
      "metadata": {
        "id": "V1zV7JOXRjOp"
      },
      "outputs": [],
      "source": [
        "#   Code to assign HomePage URL in our app to function home.\n",
        "@app.route(\"/\")\n",
        "\n",
        "def home():\n",
        "  '''\n",
        "  The entire line below must be written in a single line.\n",
        "  '''\n",
        "  return \"<marquee><h3> TO CHECK IN PUT ADD  'input/'   TO THE URL AND TO CHECK OUT PUT ADD '/output' TO THE URL.</h3><marquee>\""
      ]
    },
    {
      "cell_type": "markdown",
      "metadata": {
        "id": "Y-mQ3Ez0S_TX"
      },
      "source": [
        "No código acima, adicionei a tag, que faz o texto rolar para cima, para baixo, para esquerda ou direita automaticamente. Agora, se você quiser verificar a entrada basta colocar o '/input' no final da url ou link como diz o código e da mesma forma, se você quiser verificar sua saída, basta colocar o '/output'. Vamos fazer uma função para receber nossa entrada e atribuir a uma rota de aplicativo separada a função."
      ]
    },
    {
      "cell_type": "code",
      "execution_count": null,
      "metadata": {
        "id": "zMDYGn5DTsdY"
      },
      "outputs": [],
      "source": [
        "# Code to assign Input URL in our app to function input.\n",
        "@app.route(\"/input\")\n",
        "\n",
        "def input():\n",
        "  return jsonify(d)\n",
        "  # 'd' is the dictionary we defined\n"
      ]
    },
    {
      "cell_type": "markdown",
      "metadata": {
        "id": "ODMX7bvIUc0N"
      },
      "source": [
        "Vejamos a página de saida. Há um pequeno jogo de terminologia agora. Você notará dois novos convidados em nosso código, \"GET\" e \"POST\". Onde o \"GET\" é utilizado para solicitar dados de um recurso especificado e \"POST\" é usado para enviar dados a um servidor para criar/ atualizar um recurso, ambos são métodos HTTP. Agora vamos criar a função 'output', na segunda linha temos a variável 'pred' que recebe qualquer opção aleatória da lista, \"[\"positivo\",\"negativo\"]\". Suponha que, se você estiver trabalhando em um problema de aprendizado de máquina e precisar gerar uma previsão com base na entrada, basta substituir a função r.choice() que usamos para definir uma variável chamada 'pred'pela função que faz a previsão com a entrada."
      ]
    },
    {
      "cell_type": "code",
      "execution_count": null,
      "metadata": {
        "id": "Irzqdd5sZopG"
      },
      "outputs": [],
      "source": [
        "!pip install requests"
      ]
    },
    {
      "cell_type": "code",
      "execution_count": null,
      "metadata": {
        "id": "mCnR9Tr1WIti"
      },
      "outputs": [],
      "source": [
        "import requests\n",
        "# Output page\n",
        "@app.route('/output', methods=['GET','POST'])\n",
        "\n",
        "def predJson():\n",
        "  pred = requests.choice([\"positive\",\"negative\"])\n",
        "  nd = d.copy() # Our output\n",
        "  nd[\"prediction\"] = pred\n",
        "  return jsonify(nd)\n",
        "\n",
        "  app.run()"
      ]
    },
    {
      "cell_type": "code",
      "execution_count": null,
      "metadata": {
        "id": "O9G6AzPGdY1h"
      },
      "outputs": [],
      "source": [
        "!pip install pyngrok"
      ]
    },
    {
      "cell_type": "code",
      "execution_count": null,
      "metadata": {
        "id": "zEwMZUITZWwa"
      },
      "outputs": [],
      "source": [
        "# prompt: api flask que leia e exiba dados de uma planilha (data.csv) data em uma pagina web os dados da planilha\n",
        "\n",
        "from flask import Flask, render_template, request\n",
        "import pandas as pd\n",
        "\n",
        "app = Flask(__name__)\n",
        "\n",
        "@app.route('/')\n",
        "def index():\n",
        "  data = pd.read_csv('data.csv')\n",
        "  return render_template('index.html', data=data.to_html())\n",
        "\n",
        "if __name__ == '__main__':\n",
        "  app.run()\n"
      ]
    },
    {
      "cell_type": "code",
      "execution_count": null,
      "metadata": {
        "colab": {
          "base_uri": "https://localhost:8080/"
        },
        "id": "80j0GahnevQE",
        "outputId": "fd1b2f41-a0d7-4a7b-98f4-fb1567ddc3c9"
      },
      "outputs": [],
      "source": [
        "!ngrok config add-authtoken 2dZ45JCnHBdLc59hCNXfNaGs5dh_2N7eMWB2j3wADD9spuWuW\n",
        "from pyngrok import ngrok\n",
        "from flask import Flask, render_template\n",
        "import pandas as pd\n",
        "app = Flask(__name__)\n",
        "@app.route('/')\n",
        "def data_csv():\n",
        "    # Read the data from the CSV file\n",
        "    df = pd.read_csv('data.csv')\n",
        "\n",
        "    # Convertendo o DataFrame para HTML\n",
        "    html_table = df.to_html()\n",
        "\n",
        "    # Convert the DataFrame to a list of dictionaries\n",
        "    data = df.to_dict('records')\n",
        "\n",
        "    return html_table\n",
        "\n",
        "ngrok_tunnel = ngrok.connect(5000)\n",
        "print('Public URL:', ngrok_tunnel.public_url)\n",
        "app.run()"
      ]
    },
    {
      "cell_type": "code",
      "execution_count": null,
      "metadata": {
        "id": "igJztsoAeU_W"
      },
      "outputs": [],
      "source": [
        "# prompt: codigo que print a planiha data.csv\n",
        "\n",
        "import pandas as pd\n",
        "\n",
        "df = pd.read_csv('data.csv')\n",
        "print(df)\n"
      ]
    }
  ],
  "metadata": {
    "colab": {
      "provenance": []
    },
    "kernelspec": {
      "display_name": "Python 3",
      "name": "python3"
    },
    "language_info": {
      "name": "python"
    }
  },
  "nbformat": 4,
  "nbformat_minor": 0
}
